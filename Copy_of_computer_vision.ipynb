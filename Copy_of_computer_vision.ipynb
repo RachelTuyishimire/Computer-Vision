{
  "nbformat": 4,
  "nbformat_minor": 0,
  "metadata": {
    "colab": {
      "provenance": []
    },
    "kernelspec": {
      "name": "python3",
      "display_name": "Python 3"
    },
    "language_info": {
      "name": "python"
    }
  },
  "cells": [
    {
      "cell_type": "code",
      "execution_count": null,
      "metadata": {
        "id": "eBUv6IpBRurq"
      },
      "outputs": [],
      "source": [
        "!pip install tensorflow matplotlib\n",
        "\n"
      ]
    },
    {
      "cell_type": "code",
      "source": [
        "import tensorflow as tf\n",
        "from tensorflow.keras import layers, models\n",
        "from tensorflow.keras.preprocessing import image\n",
        "from tensorflow.keras.preprocessing.image import ImageDataGenerator\n",
        "import matplotlib.pyplot as plt\n"
      ],
      "metadata": {
        "id": "oMQ1NClrR11a"
      },
      "execution_count": null,
      "outputs": []
    },
    {
      "cell_type": "code",
      "source": [
        "!wget --no-check-certificate \\\n",
        "    https://www.dropbox.com/s/d1kjpkqklf0uw77/celeba.zip?dl=0 \\\n",
        "    -O /tmp/celeba.zip\n",
        "\n",
        "import zipfile\n",
        "\n",
        "with zipfile.ZipFile(\"/tmp/celeba.zip\", \"r\") as zip_ref:\n",
        "    zip_ref.extractall(\"/tmp\")"
      ],
      "metadata": {
        "id": "bXoHDxIJSE4o"
      },
      "execution_count": null,
      "outputs": []
    },
    {
      "cell_type": "code",
      "source": [
        "import tensorflow as tf\n",
        "from tensorflow.keras import layers, models\n",
        "from tensorflow.keras.preprocessing.image import ImageDataGenerator\n",
        "import matplotlib.pyplot as plt\n",
        "\n",
        "# Define the model\n",
        "model = models.Sequential()\n",
        "model.add(layers.Conv2D(32, (3, 3), activation='relu', input_shape=(218, 178, 3)))\n",
        "model.add(layers.MaxPooling2D((2, 2)))\n",
        "model.add(layers.Conv2D(64, (3, 3), activation='relu'))\n",
        "model.add(layers.MaxPooling2D((2, 2)))\n",
        "model.add(layers.Conv2D(128, (3, 3), activation='relu'))\n",
        "model.add(layers.MaxPooling2D((2, 2)))\n",
        "model.add(layers.Flatten())\n",
        "model.add(layers.Dense(128, activation='relu'))\n",
        "model.add(layers.Dense(2, activation='softmax'))  # Two neurons for 'man' and 'woman'\n",
        "\n",
        "model.compile(optimizer='adam', loss='categorical_crossentropy', metrics=['accuracy'])\n",
        "\n",
        "# Data augmentation with validation split\n",
        "train_datagen = ImageDataGenerator(\n",
        "    rescale=1./255,\n",
        "    shear_range=0.2,\n",
        "    zoom_range=0.2,\n",
        "    horizontal_flip=True,\n",
        "    validation_split=0.2  # 80% for training, 20% for validation\n",
        ")\n",
        "\n",
        "# Update the path to the CelebA dataset\n",
        "celeba_directory = \"/tmp/celeba/\"\n",
        "train_generator = train_datagen.flow_from_directory(\n",
        "    celeba_directory,\n",
        "    target_size=(218, 178),\n",
        "    batch_size=32,\n",
        "    class_mode='categorical',\n",
        "    subset='training',  # Specify 'training' for the training set\n",
        "    shuffle=True\n",
        ")\n",
        "\n",
        "validation_generator = train_datagen.flow_from_directory(\n",
        "    celeba_directory,\n",
        "    target_size=(218, 178),\n",
        "    batch_size=32,\n",
        "    class_mode='categorical',\n",
        "    subset='validation',  # Specify 'validation' for the validation set\n",
        "    shuffle=False  # No need to shuffle the validation set\n",
        ")\n",
        "\n",
        "# Train the model\n",
        "history = model.fit(train_generator, epochs=5, verbose=1, validation_data=validation_generator)\n"
      ],
      "metadata": {
        "id": "sEkcB_e6SM84",
        "colab": {
          "base_uri": "https://localhost:8080/"
        },
        "outputId": "4fc7c7a1-d154-40ba-efdb-c51d02b19ca2"
      },
      "execution_count": null,
      "outputs": [
        {
          "output_type": "stream",
          "name": "stdout",
          "text": [
            "Found 162080 images belonging to 1 classes.\n",
            "Found 40519 images belonging to 1 classes.\n",
            "Epoch 1/5\n",
            " 427/5065 [=>............................] - ETA: 3:26:49 - loss: 543173056.0000 - accuracy: 0.5020"
          ]
        }
      ]
    }
  ]
}